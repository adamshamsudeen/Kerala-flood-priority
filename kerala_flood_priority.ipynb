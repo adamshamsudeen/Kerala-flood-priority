{
  "nbformat": 4,
  "nbformat_minor": 0,
  "metadata": {
    "colab": {
      "name": "kerala_flood_priority.ipynb",
      "version": "0.3.2",
      "provenance": [],
      "include_colab_link": true
    },
    "kernelspec": {
      "name": "python3",
      "display_name": "Python 3"
    }
  },
  "cells": [
    {
      "cell_type": "markdown",
      "metadata": {
        "id": "view-in-github",
        "colab_type": "text"
      },
      "source": [
        "[View in Colaboratory](https://colab.research.google.com/github/adamshamsudeen/Kerala-flood-priority/blob/master/kerala_flood_priority.ipynb)"
      ]
    },
    {
      "metadata": {
        "id": "jyFvxD5RrKM-",
        "colab_type": "code",
        "colab": {}
      },
      "cell_type": "code",
      "source": [
        "'''\n",
        "Author: Adam Shamsudeen\n",
        "email: adamshamsudeen@gmail.com\n",
        "github: https://github.com/adamshamsudeen/Kerala-flood-priority/\n",
        "'''\n",
        "\n",
        "\n",
        "response = requests.get('https://keralarescue.in/data/')"
      ],
      "execution_count": 0,
      "outputs": []
    },
    {
      "metadata": {
        "id": "8XZAA28OrIvp",
        "colab_type": "code",
        "colab": {
          "base_uri": "https://localhost:8080/",
          "height": 139
        },
        "outputId": "c549fe50-d089-4a01-a148-31dae077d284"
      },
      "cell_type": "code",
      "source": [
        "import requests\n",
        "!pip install mtranslate\n",
        "!pip install tqdm"
      ],
      "execution_count": 101,
      "outputs": [
        {
          "output_type": "stream",
          "text": [
            "Requirement already satisfied: mtranslate in /usr/local/lib/python3.6/dist-packages (1.6)\n",
            "Collecting tqdm\n",
            "\u001b[?25l  Downloading https://files.pythonhosted.org/packages/7d/e6/19dfaff08fcbee7f3453e5b537e65a8364f1945f921a36d08be1e2ff3475/tqdm-4.24.0-py2.py3-none-any.whl (43kB)\n",
            "\u001b[K    100% |████████████████████████████████| 51kB 3.4MB/s \n",
            "\u001b[?25hInstalling collected packages: tqdm\n",
            "Successfully installed tqdm-4.24.0\n"
          ],
          "name": "stdout"
        }
      ]
    },
    {
      "metadata": {
        "id": "S1mKisrnrbFl",
        "colab_type": "code",
        "colab": {}
      },
      "cell_type": "code",
      "source": [
        "import json\n",
        "from mtranslate import translate"
      ],
      "execution_count": 0,
      "outputs": []
    },
    {
      "metadata": {
        "id": "-COla5rbrhZO",
        "colab_type": "code",
        "colab": {
          "base_uri": "https://localhost:8080/",
          "height": 459
        },
        "outputId": "7bc69c07-b7fc-44c9-e6f3-d12d5343c53c"
      },
      "cell_type": "code",
      "source": [
        "from google.colab import auth\n",
        "auth.authenticate_user()\n",
        "\n",
        "import gspread\n",
        "from oauth2client.client import GoogleCredentials\n",
        "\n",
        "gc = gspread.authorize(GoogleCredentials.get_application_default())\n",
        "\n",
        "\n",
        "\n",
        "json_data = json.loads(response.text)\n",
        "json_data[-1000]"
      ],
      "execution_count": 95,
      "outputs": [
        {
          "output_type": "execute_result",
          "data": {
            "text/plain": [
              "{'dateadded': '2018-08-16T17:55:58.519Z',\n",
              " 'detailcloth': '',\n",
              " 'detailfood': '',\n",
              " 'detailkit_util': '',\n",
              " 'detailmed': '',\n",
              " 'detailrescue': '',\n",
              " 'detailtoilet': '',\n",
              " 'detailwater': '',\n",
              " 'district': 'alp',\n",
              " 'id': 12669,\n",
              " 'is_request_for_others': True,\n",
              " 'latlng': '9.335264, 76.583416',\n",
              " 'latlng_accuracy': '9°20\\'07.0\"N 76°35\\'00.3\"E',\n",
              " 'location': 'Chengannur, kallisery,prayar,madavana junction',\n",
              " 'needcloth': False,\n",
              " 'needfood': True,\n",
              " 'needkit_util': False,\n",
              " 'needmed': True,\n",
              " 'needothers': '',\n",
              " 'needrescue': True,\n",
              " 'needtoilet': True,\n",
              " 'needwater': True,\n",
              " 'requestee': 'Jomon M.J',\n",
              " 'requestee_phone': '9744566216',\n",
              " 'status': 'new',\n",
              " 'supply_details': ''}"
            ]
          },
          "metadata": {
            "tags": []
          },
          "execution_count": 95
        }
      ]
    },
    {
      "metadata": {
        "id": "EeKuq8G-HSXB",
        "colab_type": "code",
        "colab": {
          "base_uri": "https://localhost:8080/",
          "height": 442
        },
        "outputId": "647ca9d3-f24b-407d-cbdf-6f4f58b1d870"
      },
      "cell_type": "code",
      "source": [
        "\n",
        "from tqdm import tqdm\n",
        "def write_to_sheet(data,start_row):\n",
        "  start_letter = 'A'\n",
        "#   end_letter = string.uppercase[len(data[0]) - 1]\n",
        "  end_letter = 'H'\n",
        "  end_row = start_row + len(json_data) - 1\n",
        "  range = \"%s%d:%s%d\" % (start_letter, start_row, end_letter, end_row)\n",
        "\n",
        "#   print ()\"Range is: \" + range\n",
        "  \n",
        "  sh = gc.create('Flood priority sheet')\n",
        "\n",
        "# Open our new sheet and add some data.\n",
        "  worksheet = gc.open('Flood priority sheet').sheet1\n",
        "\n",
        "  cell_list = worksheet.range(range)\n",
        "\n",
        "  try:\n",
        "    idx = 0\n",
        "    for (start_row, rowlist) in enumerate(data):\n",
        "        for (colnum, value) in enumerate(rowlist):\n",
        "            cell_list[idx].value = value\n",
        "            idx += 1\n",
        "            if idx >= len(cell_list):\n",
        "                break\n",
        "\n",
        "    # Update the whole sheet\n",
        "    worksheet.update_cells(cell_list)\n",
        "  except:\n",
        "      print(\"Exception\")\n",
        "\n",
        "urgency_vocab = ['urgent', 'pregnant', 'trapped', 'infant','baby','child','senior','stuck','sick',  'ambulance', 'asap']\n",
        "lis=[]\n",
        "i=0\n",
        "for item in json_data:\n",
        "  all_user_texts = ' '.join([item['detailrescue'],item['location'],item['needothers']])\n",
        "  if all_user_texts not in lis:\n",
        "    #translate the sentence to english\n",
        "    translated  = translate(all_user_texts,\"en\",\"ml\")\n",
        "    if any([word for word in urgency_vocab if word in translated.lower()]):\n",
        "#     for word in urgency_vocab:\n",
        "#       if word in translated:\n",
        "#         print(all_user_texts)\n",
        "      lis.append([item['requestee'],item['requestee_phone'],item['dateadded'],all_user_texts,item['detailrescue'],item['district'],item['latlng'],json.dumps(item)])\n",
        "  i+=1\n",
        "  if i%100==0:\n",
        "    print(i)\n",
        "#         break\n",
        "write_to_sheet(lis,1)\n",
        "#       print(item['detailrescue'],item['district'],item['requestee'],item['requestee_phone'])\n",
        "\n",
        "\n",
        "\n"
      ],
      "execution_count": 103,
      "outputs": [
        {
          "output_type": "stream",
          "text": [
            "0\n",
            "0\n",
            "0\n",
            "0\n",
            "0\n",
            "100\n",
            "200\n",
            "200\n",
            "300\n",
            "300\n",
            "400\n",
            "400\n",
            "400\n",
            "400\n",
            "400\n",
            "400\n",
            "500\n",
            "500\n",
            "600\n",
            "700\n",
            "800\n",
            "800\n",
            "900\n",
            "900\n",
            "900\n"
          ],
          "name": "stdout"
        }
      ]
    },
    {
      "metadata": {
        "id": "g6zqa6rdMU6Q",
        "colab_type": "code",
        "colab": {}
      },
      "cell_type": "code",
      "source": [
        "https://docs.google.com/spreadsheets/d/1QF1H5g7kXiZSGzal9zNYdreY_kqEuOBakkqlBmWJ_hs/edit#gid=0"
      ],
      "execution_count": 0,
      "outputs": []
    },
    {
      "metadata": {
        "id": "_9kuJeKAr89f",
        "colab_type": "code",
        "colab": {}
      },
      "cell_type": "code",
      "source": [
        ""
      ],
      "execution_count": 0,
      "outputs": []
    },
    {
      "metadata": {
        "id": "s7O_FEa7HhYT",
        "colab_type": "code",
        "colab": {}
      },
      "cell_type": "code",
      "source": [
        ""
      ],
      "execution_count": 0,
      "outputs": []
    }
  ]
}